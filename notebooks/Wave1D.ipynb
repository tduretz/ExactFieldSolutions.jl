{
 "cells": [
  {
   "cell_type": "code",
   "execution_count": 140,
   "metadata": {},
   "outputs": [],
   "source": [
    "from sympy import *"
   ]
  },
  {
   "cell_type": "code",
   "execution_count": 141,
   "metadata": {},
   "outputs": [
    {
     "data": {
      "text/latex": [
       "$\\displaystyle 0$"
      ],
      "text/plain": [
       "0"
      ]
     },
     "execution_count": 141,
     "metadata": {},
     "output_type": "execute_result"
    }
   ],
   "source": [
    "# d'Alembert\n",
    "k, x, c, t = symbols('k, x, c, t')\n",
    "u = (exp(I*k*(x- c*t)))\n",
    "f = u.diff(t).diff(t) - c**2*u.diff(x).diff(x)\n",
    "f.simplify()"
   ]
  },
  {
   "cell_type": "code",
   "execution_count": 156,
   "metadata": {},
   "outputs": [
    {
     "data": {
      "text/latex": [
       "$\\displaystyle - e^{- \\frac{x^{2}}{sig^{2}}}$"
      ],
      "text/plain": [
       "-exp(-x**2/sig**2)"
      ]
     },
     "execution_count": 156,
     "metadata": {},
     "output_type": "execute_result"
    }
   ],
   "source": [
    "# d'Alembert + source\n",
    "k, sig, x, c, t = symbols('k, sig, x, c, t')\n",
    "u = (exp(I*k*(x- c*t)))\n",
    "f = exp(-x**2/sig**2)\n",
    "f = u.diff(t).diff(t) - c**2*u.diff(x).diff(x) - f\n",
    "f.simplify()"
   ]
  },
  {
   "cell_type": "code",
   "execution_count": 142,
   "metadata": {},
   "outputs": [
    {
     "data": {
      "text/latex": [
       "$\\displaystyle 0$"
      ],
      "text/plain": [
       "0"
      ]
     },
     "execution_count": 142,
     "metadata": {},
     "output_type": "execute_result"
    }
   ],
   "source": [
    "k, x, c0, c1, t, E0, rho = symbols('k, x, c0, c1, t, E0, rho')\n",
    "E = E0\n",
    "c = sqrt(E0/rho)\n",
    "u = exp(I*k*(x- c*t))\n",
    "\n",
    "S = E*u.diff(x)\n",
    "f = rho*u.diff(t).diff(t) - S.diff(x)\n",
    "f"
   ]
  },
  {
   "cell_type": "code",
   "execution_count": 154,
   "metadata": {},
   "outputs": [
    {
     "data": {
      "text/plain": [
       "[0,\n",
       " -I*rho*(4*pi**3*G0*sigma**2*exp(x**2/sigma**2)*erfc(x/sigma) + sqrt(2)*pi**(5/2)*G0*sigma*t*sqrt((G0*erfc(x/sigma) + 2*Gbg)/rho) + 2*sqrt(2)*pi**3*G0*t*x*sqrt((G0*erfc(x/sigma) + 2*Gbg)/rho)*exp(x**2/sigma**2)*erfc(x/sigma) + 8*pi**3*Gbg*sigma**2*exp(x**2/sigma**2) + 4*sqrt(2)*pi**3*Gbg*t*x*sqrt((G0*erfc(x/sigma) + 2*Gbg)/rho)*exp(x**2/sigma**2))/(k*sigma*t*(pi**(5/2)*G0**2*t*erfc(x/sigma) + 2*pi**(5/2)*G0*Gbg*t + 2*sqrt(2)*pi**3*G0*rho*sigma*sqrt((G0*erfc(x/sigma) + 2*Gbg)/rho)*exp(x**2/sigma**2)*erfc(x/sigma) + 4*sqrt(2)*pi**3*Gbg*rho*sigma*sqrt((G0*erfc(x/sigma) + 2*Gbg)/rho)*exp(x**2/sigma**2)))]"
      ]
     },
     "execution_count": 154,
     "metadata": {},
     "output_type": "execute_result"
    }
   ],
   "source": [
    "A, k, x, c0, cbg, t, G0, Gbg, rho, sig, L = symbols('A, k, x, c0, cbg, t, G0, Gbg, rho, sigma, L')\n",
    "\n",
    "G   = Gbg + G0/2*erfc(x/sig)\n",
    "c   = sqrt(G/rho)\n",
    "u   = exp(I*A*k*(x- c*t))\n",
    "\n",
    "S   = G*u.diff(x)\n",
    "f   = rho*u.diff(t).diff(t) - S.diff(x)\n",
    "\n",
    "sol = solve(f, A)\n",
    "\n",
    "sol\n",
    "\n"
   ]
  },
  {
   "cell_type": "code",
   "execution_count": 155,
   "metadata": {},
   "outputs": [
    {
     "data": {
      "text/plain": [
       "'-im * rho .* (4 * pi ^ 3 * G0 .* sigma .^ 2 .* exp(x .^ 2 ./ sigma .^ 2) .* erfc(x ./ sigma) + sqrt(2) * pi ^ (5 // 2) * G0 .* sigma .* t .* sqrt((G0 .* erfc(x ./ sigma) + 2 * Gbg) ./ rho) + 2 * sqrt(2) * pi ^ 3 * G0 .* t .* x .* sqrt((G0 .* erfc(x ./ sigma) + 2 * Gbg) ./ rho) .* exp(x .^ 2 ./ sigma .^ 2) .* erfc(x ./ sigma) + 8 * pi ^ 3 * Gbg .* sigma .^ 2 .* exp(x .^ 2 ./ sigma .^ 2) + 4 * sqrt(2) * pi ^ 3 * Gbg .* t .* x .* sqrt((G0 .* erfc(x ./ sigma) + 2 * Gbg) ./ rho) .* exp(x .^ 2 ./ sigma .^ 2)) ./ (k .* sigma .* t .* (pi ^ (5 // 2) * G0 .^ 2 .* t .* erfc(x ./ sigma) + 2 * pi ^ (5 // 2) * G0 .* Gbg .* t + 2 * sqrt(2) * pi ^ 3 * G0 .* rho .* sigma .* sqrt((G0 .* erfc(x ./ sigma) + 2 * Gbg) ./ rho) .* exp(x .^ 2 ./ sigma .^ 2) .* erfc(x ./ sigma) + 4 * sqrt(2) * pi ^ 3 * Gbg .* rho .* sigma .* sqrt((G0 .* erfc(x ./ sigma) + 2 * Gbg) ./ rho) .* exp(x .^ 2 ./ sigma .^ 2)))'"
      ]
     },
     "execution_count": 155,
     "metadata": {},
     "output_type": "execute_result"
    }
   ],
   "source": [
    "julia_code(sol[1].subs(G,'G').subs(u,'u'))"
   ]
  },
  {
   "cell_type": "code",
   "execution_count": null,
   "metadata": {},
   "outputs": [],
   "source": []
  }
 ],
 "metadata": {
  "kernelspec": {
   "display_name": "Python 3",
   "language": "python",
   "name": "python3"
  },
  "language_info": {
   "codemirror_mode": {
    "name": "ipython",
    "version": 3
   },
   "file_extension": ".py",
   "mimetype": "text/x-python",
   "name": "python",
   "nbconvert_exporter": "python",
   "pygments_lexer": "ipython3",
   "version": "3.9.6"
  }
 },
 "nbformat": 4,
 "nbformat_minor": 2
}
